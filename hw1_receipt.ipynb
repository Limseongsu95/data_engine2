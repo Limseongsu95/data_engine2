{
 "cells": [
  {
   "cell_type": "code",
   "execution_count": 1,
   "id": "f2e1c6ca-51d2-4ab5-a249-ef73fbfb4975",
   "metadata": {
    "tags": []
   },
   "outputs": [],
   "source": [
    "lovely_loveseat_description = \"Lovely Loveseat. Tufted polyester blend on wood. 32 inches high x 40 inches wide x 30 inches deep. Red or white.\""
   ]
  },
  {
   "cell_type": "code",
   "execution_count": 2,
   "id": "aa79827e-c947-4886-84ba-a44cd89e46ac",
   "metadata": {
    "tags": []
   },
   "outputs": [],
   "source": [
    "lovely_loveseat_price = 254.00"
   ]
  },
  {
   "cell_type": "code",
   "execution_count": 3,
   "id": "d95e28e5-3340-4a98-b78b-faf376fa0d0c",
   "metadata": {
    "tags": []
   },
   "outputs": [],
   "source": [
    "stylish_settee_description = \"Stylish Settee. Faux leather on birch. 29.50 inches high x 54.75 inches wide x 28 inches deep. Black.\""
   ]
  },
  {
   "cell_type": "code",
   "execution_count": 4,
   "id": "ee5d5c8e-a249-45b4-8afa-3ceebe935e9d",
   "metadata": {
    "tags": []
   },
   "outputs": [],
   "source": [
    "stylish_settee_price = 180.50"
   ]
  },
  {
   "cell_type": "code",
   "execution_count": 5,
   "id": "e2214785-67e8-4e0b-9d53-4edb06b6ce82",
   "metadata": {
    "tags": []
   },
   "outputs": [],
   "source": [
    "luxurious_lamp_description = \"Luxurious Lamp. Glass and iron. 36 inches tall. Brown with cream shade.\""
   ]
  },
  {
   "cell_type": "code",
   "execution_count": 6,
   "id": "7c0959af-5294-4372-bddc-c80d085d6d8c",
   "metadata": {
    "tags": []
   },
   "outputs": [],
   "source": [
    "luxurious_lamp_price = 52.15"
   ]
  },
  {
   "cell_type": "code",
   "execution_count": 7,
   "id": "98f9cca5-0028-4fcc-9d69-d8599573487d",
   "metadata": {
    "tags": []
   },
   "outputs": [],
   "source": [
    "sales_tax = 0.088"
   ]
  },
  {
   "cell_type": "code",
   "execution_count": 8,
   "id": "867b2ff6-1453-4ce8-8e7b-3456c6603615",
   "metadata": {
    "tags": []
   },
   "outputs": [],
   "source": [
    "customer_one_total = 0"
   ]
  },
  {
   "cell_type": "code",
   "execution_count": 9,
   "id": "14ddc840-f770-4a47-866c-0d1d48626bdd",
   "metadata": {
    "tags": []
   },
   "outputs": [],
   "source": [
    "customer_one_itemization = \"\""
   ]
  },
  {
   "cell_type": "code",
   "execution_count": 10,
   "id": "c5ece3cd-ece7-4834-a0c6-87baa4e53ab0",
   "metadata": {
    "tags": []
   },
   "outputs": [],
   "source": [
    "customer_one_total += lovely_loveseat_price"
   ]
  },
  {
   "cell_type": "code",
   "execution_count": 11,
   "id": "64fa64ea-975d-4c20-8549-e3ebe8369aad",
   "metadata": {
    "tags": []
   },
   "outputs": [],
   "source": [
    "customer_one_itemization += lovely_loveseat_description + \"\\n\""
   ]
  },
  {
   "cell_type": "code",
   "execution_count": 12,
   "id": "623d75ad-db02-47ad-9bb8-6a7a721355a7",
   "metadata": {
    "tags": []
   },
   "outputs": [],
   "source": [
    "customer_one_total += luxurious_lamp_price"
   ]
  },
  {
   "cell_type": "code",
   "execution_count": 13,
   "id": "37328639-0730-44a1-8b6a-f854112f4af4",
   "metadata": {
    "tags": []
   },
   "outputs": [],
   "source": [
    "customer_one_itemization += luxurious_lamp_description + \"\\n\""
   ]
  },
  {
   "cell_type": "code",
   "execution_count": 14,
   "id": "b9878818-0615-4949-bbe2-c359c181a757",
   "metadata": {
    "tags": []
   },
   "outputs": [],
   "source": [
    "customer_one_tax = customer_one_total * sales_tax"
   ]
  },
  {
   "cell_type": "code",
   "execution_count": 16,
   "id": "c6876862-7760-49eb-a42f-203eb929673c",
   "metadata": {
    "tags": []
   },
   "outputs": [],
   "source": [
    "customer_one_total += customer_one_tax"
   ]
  },
  {
   "cell_type": "code",
   "execution_count": 17,
   "id": "800820d9-b8c1-4315-a871-82bf388db86f",
   "metadata": {
    "tags": []
   },
   "outputs": [
    {
     "name": "stdout",
     "output_type": "stream",
     "text": [
      "Customer One Items:\n",
      "Lovely Loveseat. Tufted polyester blend on wood. 32 inches high x 40 inches wide x 30 inches deep. Red or white.\n",
      "Luxurious Lamp. Glass and iron. 36 inches tall. Brown with cream shade.\n",
      "\n",
      "Customer One Total:\n",
      "333.09119999999996\n"
     ]
    }
   ],
   "source": [
    "print(\"Customer One Items:\")\n",
    "print(customer_one_itemization)\n",
    "print(\"Customer One Total:\")\n",
    "print(customer_one_total)"
   ]
  },
  {
   "cell_type": "code",
   "execution_count": null,
   "id": "e213b3a7-df73-468b-875d-7544af8e3904",
   "metadata": {},
   "outputs": [],
   "source": []
  }
 ],
 "metadata": {
  "kernelspec": {
   "display_name": "Python 3 (ipykernel)",
   "language": "python",
   "name": "python3"
  },
  "language_info": {
   "codemirror_mode": {
    "name": "ipython",
    "version": 3
   },
   "file_extension": ".py",
   "mimetype": "text/x-python",
   "name": "python",
   "nbconvert_exporter": "python",
   "pygments_lexer": "ipython3",
   "version": "3.11.4"
  }
 },
 "nbformat": 4,
 "nbformat_minor": 5
}
