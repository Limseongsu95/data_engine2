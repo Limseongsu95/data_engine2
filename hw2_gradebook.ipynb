{
 "cells": [
  {
   "cell_type": "code",
   "execution_count": 1,
   "id": "f304a26b-f37b-4e56-bbb8-1d58f33dd9db",
   "metadata": {},
   "outputs": [],
   "source": [
    "subjects = [\"physics\", \"calculus\", \"poetry\", \"history\"]"
   ]
  },
  {
   "cell_type": "code",
   "execution_count": 2,
   "id": "589c5c43-2da1-4e0d-a2b8-630315e9f0a9",
   "metadata": {
    "tags": []
   },
   "outputs": [],
   "source": [
    "grades = [98, 97, 85, 88]"
   ]
  },
  {
   "cell_type": "code",
   "execution_count": 3,
   "id": "d77bd395-c713-4dd4-8a28-a308b8c95785",
   "metadata": {
    "tags": []
   },
   "outputs": [],
   "source": [
    "gradebook = []"
   ]
  },
  {
   "cell_type": "code",
   "execution_count": 4,
   "id": "37f0f5cf-01ce-4340-806f-20cd2b84a455",
   "metadata": {
    "tags": []
   },
   "outputs": [],
   "source": [
    "gradebook.append([\"physics\", 98])\n",
    "gradebook.append([\"calculus\", 97])\n",
    "gradebook.append([\"poetry\", 85])\n",
    "gradebook.append([\"history\", 88])"
   ]
  },
  {
   "cell_type": "code",
   "execution_count": 5,
   "id": "4329e267-1a87-4a05-9a6c-025f2b3f192e",
   "metadata": {
    "tags": []
   },
   "outputs": [
    {
     "name": "stdout",
     "output_type": "stream",
     "text": [
      "[['physics', 98], ['calculus', 97], ['poetry', 85], ['history', 88]]\n"
     ]
    }
   ],
   "source": [
    "print(gradebook)"
   ]
  },
  {
   "cell_type": "code",
   "execution_count": 6,
   "id": "12cd402c-69b1-43ae-88b9-138ae0159b43",
   "metadata": {
    "tags": []
   },
   "outputs": [],
   "source": [
    "gradebook.append([\"computer science\", 100])"
   ]
  },
  {
   "cell_type": "code",
   "execution_count": 7,
   "id": "fc19d204-ba65-4c44-a0f6-ff5b9c9161f9",
   "metadata": {
    "tags": []
   },
   "outputs": [],
   "source": [
    "gradebook.append([\"visual arts\", 93])"
   ]
  },
  {
   "cell_type": "code",
   "execution_count": 8,
   "id": "04f32e04-6b2e-41a1-90a8-83bee8faa219",
   "metadata": {
    "tags": []
   },
   "outputs": [
    {
     "name": "stdout",
     "output_type": "stream",
     "text": [
      "[['physics', 98], ['calculus', 97], ['poetry', 85], ['history', 88], ['computer science', 100], ['visual arts', 93]]\n"
     ]
    }
   ],
   "source": [
    "print(gradebook)"
   ]
  },
  {
   "cell_type": "code",
   "execution_count": 9,
   "id": "25b97b0e-8b78-45e9-a070-1191a03c63fd",
   "metadata": {
    "tags": []
   },
   "outputs": [],
   "source": [
    "for item in gradebook:\n",
    "    if item[0] == \"visual arts\":\n",
    "        item[1] += 5"
   ]
  },
  {
   "cell_type": "code",
   "execution_count": 10,
   "id": "83de831f-0217-4c94-a587-01b3cd93087b",
   "metadata": {
    "tags": []
   },
   "outputs": [],
   "source": [
    "for item in gradebook:\n",
    "    if item[0] == \"visual arts\":\n",
    "        gradebook.remove(item)\n",
    "        gradebook.append([\"visual arts\", \"Pass\"])\n",
    "        break"
   ]
  },
  {
   "cell_type": "code",
   "execution_count": 11,
   "id": "27504f1f-136b-49c9-bc62-27fcee48ee73",
   "metadata": {
    "tags": []
   },
   "outputs": [
    {
     "name": "stdout",
     "output_type": "stream",
     "text": [
      "[['physics', 98], ['calculus', 97], ['poetry', 85], ['history', 88], ['computer science', 100], ['visual arts', 'Pass']]\n"
     ]
    }
   ],
   "source": [
    "print(gradebook)"
   ]
  },
  {
   "cell_type": "code",
   "execution_count": 12,
   "id": "a91f53b9-0393-435a-8ea9-9ae64b1d069e",
   "metadata": {
    "tags": []
   },
   "outputs": [],
   "source": [
    "last_semester_gradebook = [[\"politics\", 80], [\"latin\", 96], [\"dance\", 97], [\"architecture\", 65]]"
   ]
  },
  {
   "cell_type": "code",
   "execution_count": 13,
   "id": "6267e629-a8b4-4a0f-9695-88aec38e5107",
   "metadata": {
    "tags": []
   },
   "outputs": [],
   "source": [
    "full_gradebook = last_semester_gradebook + gradebook"
   ]
  },
  {
   "cell_type": "code",
   "execution_count": 14,
   "id": "b500aff3-317b-4cea-b731-728d50f3df85",
   "metadata": {
    "tags": []
   },
   "outputs": [
    {
     "name": "stdout",
     "output_type": "stream",
     "text": [
      "[['politics', 80], ['latin', 96], ['dance', 97], ['architecture', 65], ['physics', 98], ['calculus', 97], ['poetry', 85], ['history', 88], ['computer science', 100], ['visual arts', 'Pass']]\n"
     ]
    }
   ],
   "source": [
    "print(full_gradebook)"
   ]
  },
  {
   "cell_type": "code",
   "execution_count": null,
   "id": "fe5dc10f-2c8a-48d4-b018-734a30742094",
   "metadata": {},
   "outputs": [],
   "source": []
  }
 ],
 "metadata": {
  "kernelspec": {
   "display_name": "Python 3 (ipykernel)",
   "language": "python",
   "name": "python3"
  },
  "language_info": {
   "codemirror_mode": {
    "name": "ipython",
    "version": 3
   },
   "file_extension": ".py",
   "mimetype": "text/x-python",
   "name": "python",
   "nbconvert_exporter": "python",
   "pygments_lexer": "ipython3",
   "version": "3.11.4"
  }
 },
 "nbformat": 4,
 "nbformat_minor": 5
}
