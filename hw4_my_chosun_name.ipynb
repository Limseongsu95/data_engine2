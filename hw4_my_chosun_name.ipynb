{
 "cells": [
  {
   "cell_type": "code",
   "execution_count": 2,
   "id": "aec89d73-da45-4f29-9ffa-9b9ac7d7bf0c",
   "metadata": {
    "tags": []
   },
   "outputs": [
    {
     "name": "stdout",
     "output_type": "stream",
     "text": [
      "당신의 조선시대 이름은 안칠걸 입니다.\n"
     ]
    }
   ],
   "source": [
    "def get_my_chosun_name(family_name, month, day):\n",
    "    first_name_list = [\"쌍\", \"쇠\", \"복\", \"돌\", \"팽\", \"육\", \"쌍\", \"개\", \"칠\", \"갑\", \"삼\", \"방\"]\n",
    "    \n",
    "    second_name_list = [\"봉\", \"구\", \"욕\", \"포\", \"똥\", \"삼\", \"식\", \"석\", \"놈\", \"님\", \"년\", \"돌\", \"단\", \"득\", \"방\", \"질\", \"장\", \"걸\", \"래\", \"룡\", \"동\", \"순\", \"자\", \"박\", \"창\", \"언\", \"것\", \"포\", \"만\", \"단\", \"국\"]\n",
    "    \n",
    "    first_name = first_name_list[month - 1]\n",
    "\n",
    "    second_name = second_name_list[day - 1]\n",
    "\n",
    "    chosun_name = family_name + first_name + second_name\n",
    "\n",
    "    print(\"당신의 조선시대 이름은\", chosun_name, \"입니다.\")\n",
    "    \n",
    "get_my_chosun_name(\"안\", 9, 18)\n"
   ]
  },
  {
   "cell_type": "code",
   "execution_count": null,
   "id": "eb6eb06d-3064-462e-bf2c-dbf51e04826a",
   "metadata": {},
   "outputs": [],
   "source": []
  }
 ],
 "metadata": {
  "kernelspec": {
   "display_name": "Python 3 (ipykernel)",
   "language": "python",
   "name": "python3"
  },
  "language_info": {
   "codemirror_mode": {
    "name": "ipython",
    "version": 3
   },
   "file_extension": ".py",
   "mimetype": "text/x-python",
   "name": "python",
   "nbconvert_exporter": "python",
   "pygments_lexer": "ipython3",
   "version": "3.11.4"
  }
 },
 "nbformat": 4,
 "nbformat_minor": 5
}
